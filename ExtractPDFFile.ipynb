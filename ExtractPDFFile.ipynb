{
 "cells": [
  {
   "cell_type": "code",
   "execution_count": 1,
   "metadata": {},
   "outputs": [],
   "source": [
    "import os\n",
    "import shutil\n",
    "import pdfplumber\n",
    "import pandas as pd"
   ]
  },
  {
   "cell_type": "code",
   "execution_count": 2,
   "metadata": {},
   "outputs": [
    {
     "ename": "FileNotFoundError",
     "evalue": "[Errno 2] No such file or directory: 'C:\\\\Users\\\\DELL\\\\Desktop\\\\PDF extration\\\\pdf folder\\\\新一代合规意见\\\\上海锺伟房地产开发有限公司-PIFU111111111N202068017-合规意见.pdf'",
     "output_type": "error",
     "traceback": [
      "\u001b[1;31m---------------------------------------------------------------------------\u001b[0m",
      "\u001b[1;31mFileNotFoundError\u001b[0m                         Traceback (most recent call last)",
      "\u001b[1;32m<ipython-input-2-92e7d3972650>\u001b[0m in \u001b[0;36m<module>\u001b[1;34m\u001b[0m\n\u001b[1;32m----> 1\u001b[1;33m \u001b[0mpdf_file\u001b[0m\u001b[1;33m=\u001b[0m\u001b[0mpdfplumber\u001b[0m\u001b[1;33m.\u001b[0m\u001b[0mopen\u001b[0m\u001b[1;33m(\u001b[0m\u001b[1;34mr'C:\\Users\\DELL\\Desktop\\PDF extration\\pdf folder\\新一代合规意见\\上海锺伟房地产开发有限公司-PIFU111111111N202068017-合规意见.pdf'\u001b[0m\u001b[1;33m)\u001b[0m\u001b[1;33m\u001b[0m\u001b[1;33m\u001b[0m\u001b[0m\n\u001b[0m\u001b[0;32m      2\u001b[0m \u001b[1;32mfor\u001b[0m \u001b[0mi\u001b[0m \u001b[1;32min\u001b[0m \u001b[0mrange\u001b[0m\u001b[1;33m(\u001b[0m\u001b[0mlen\u001b[0m\u001b[1;33m(\u001b[0m\u001b[0mpdf_file\u001b[0m\u001b[1;33m.\u001b[0m\u001b[0mpages\u001b[0m\u001b[1;33m)\u001b[0m\u001b[1;33m)\u001b[0m\u001b[1;33m:\u001b[0m\u001b[1;33m\u001b[0m\u001b[1;33m\u001b[0m\u001b[0m\n\u001b[0;32m      3\u001b[0m     \u001b[0mprint\u001b[0m\u001b[1;33m(\u001b[0m\u001b[1;34m'page_no_{}'\u001b[0m\u001b[1;33m.\u001b[0m\u001b[0mformat\u001b[0m\u001b[1;33m(\u001b[0m\u001b[0mi\u001b[0m\u001b[1;33m)\u001b[0m\u001b[1;33m)\u001b[0m\u001b[1;33m\u001b[0m\u001b[1;33m\u001b[0m\u001b[0m\n\u001b[0;32m      4\u001b[0m     \u001b[0mname_list\u001b[0m\u001b[1;33m=\u001b[0m\u001b[0mpdf_file\u001b[0m\u001b[1;33m.\u001b[0m\u001b[0mpages\u001b[0m\u001b[1;33m[\u001b[0m\u001b[0mi\u001b[0m\u001b[1;33m]\u001b[0m\u001b[1;33m.\u001b[0m\u001b[0mextract_table\u001b[0m\u001b[1;33m(\u001b[0m\u001b[1;33m)\u001b[0m\u001b[1;33m\u001b[0m\u001b[1;33m\u001b[0m\u001b[0m\n\u001b[0;32m      5\u001b[0m     \u001b[1;32mif\u001b[0m \u001b[0mname_list\u001b[0m \u001b[1;32mis\u001b[0m \u001b[1;32mnot\u001b[0m \u001b[1;32mNone\u001b[0m\u001b[1;33m:\u001b[0m\u001b[1;33m\u001b[0m\u001b[1;33m\u001b[0m\u001b[0m\n",
      "\u001b[1;32mC:\\Anaconda3\\lib\\site-packages\\pdfplumber\\pdf.py\u001b[0m in \u001b[0;36mopen\u001b[1;34m(cls, path_or_fp, pages, laparams, password, strict_metadata)\u001b[0m\n\u001b[0;32m     69\u001b[0m \u001b[1;33m\u001b[0m\u001b[0m\n\u001b[0;32m     70\u001b[0m         \u001b[1;32mif\u001b[0m \u001b[0misinstance\u001b[0m\u001b[1;33m(\u001b[0m\u001b[0mpath_or_fp\u001b[0m\u001b[1;33m,\u001b[0m \u001b[1;33m(\u001b[0m\u001b[0mstr\u001b[0m\u001b[1;33m,\u001b[0m \u001b[0mpathlib\u001b[0m\u001b[1;33m.\u001b[0m\u001b[0mPath\u001b[0m\u001b[1;33m)\u001b[0m\u001b[1;33m)\u001b[0m\u001b[1;33m:\u001b[0m\u001b[1;33m\u001b[0m\u001b[1;33m\u001b[0m\u001b[0m\n\u001b[1;32m---> 71\u001b[1;33m             \u001b[0mstream\u001b[0m \u001b[1;33m=\u001b[0m \u001b[0mopen\u001b[0m\u001b[1;33m(\u001b[0m\u001b[0mpath_or_fp\u001b[0m\u001b[1;33m,\u001b[0m \u001b[1;34m\"rb\"\u001b[0m\u001b[1;33m)\u001b[0m\u001b[1;33m\u001b[0m\u001b[1;33m\u001b[0m\u001b[0m\n\u001b[0m\u001b[0;32m     72\u001b[0m             \u001b[0mstream_is_external\u001b[0m \u001b[1;33m=\u001b[0m \u001b[1;32mFalse\u001b[0m\u001b[1;33m\u001b[0m\u001b[1;33m\u001b[0m\u001b[0m\n\u001b[0;32m     73\u001b[0m         \u001b[1;32melse\u001b[0m\u001b[1;33m:\u001b[0m\u001b[1;33m\u001b[0m\u001b[1;33m\u001b[0m\u001b[0m\n",
      "\u001b[1;31mFileNotFoundError\u001b[0m: [Errno 2] No such file or directory: 'C:\\\\Users\\\\DELL\\\\Desktop\\\\PDF extration\\\\pdf folder\\\\新一代合规意见\\\\上海锺伟房地产开发有限公司-PIFU111111111N202068017-合规意见.pdf'"
     ]
    }
   ],
   "source": [
    "pdf_file=pdfplumber.open(r'C:\\Users\\DELL\\Desktop\\PDF extration\\pdf folder\\新一代合规意见\\上海锺伟房地产开发有限公司-PIFU111111111N202068017-合规意见.pdf')\n",
    "for i in range(len(pdf_file.pages)):\n",
    "    print('page_no_{}'.format(i))\n",
    "    name_list=pdf_file.pages[i].extract_table()\n",
    "    if name_list is not None:\n",
    "        for item in name_list:\n",
    "            for i in item:\n",
    "                if '签字' in str(i):\n",
    "                    print(i)"
   ]
  },
  {
   "cell_type": "code",
   "execution_count": 3,
   "metadata": {},
   "outputs": [
    {
     "ename": "FileNotFoundError",
     "evalue": "[WinError 3] 系统找不到指定的路径。: 'C:\\\\Users\\\\DELL\\\\Desktop\\\\PDF extraction\\\\pdf folder\\\\新一代审批意见'",
     "output_type": "error",
     "traceback": [
      "\u001b[1;31m---------------------------------------------------------------------------\u001b[0m",
      "\u001b[1;31mFileNotFoundError\u001b[0m                         Traceback (most recent call last)",
      "\u001b[1;32m<ipython-input-3-366e508c2302>\u001b[0m in \u001b[0;36m<module>\u001b[1;34m\u001b[0m\n\u001b[0;32m      3\u001b[0m \u001b[0mapproval_datelist\u001b[0m\u001b[1;33m=\u001b[0m\u001b[1;33m[\u001b[0m\u001b[1;33m]\u001b[0m \u001b[1;31m#建立全量审批日期列表\u001b[0m\u001b[1;33m\u001b[0m\u001b[1;33m\u001b[0m\u001b[0m\n\u001b[0;32m      4\u001b[0m \u001b[0mpath\u001b[0m\u001b[1;33m=\u001b[0m\u001b[0mos\u001b[0m\u001b[1;33m.\u001b[0m\u001b[0mgetcwd\u001b[0m\u001b[1;33m(\u001b[0m\u001b[1;33m)\u001b[0m\u001b[1;33m\u001b[0m\u001b[1;33m\u001b[0m\u001b[0m\n\u001b[1;32m----> 5\u001b[1;33m \u001b[0mfile_list\u001b[0m\u001b[1;33m=\u001b[0m\u001b[0mos\u001b[0m\u001b[1;33m.\u001b[0m\u001b[0mlistdir\u001b[0m\u001b[1;33m(\u001b[0m\u001b[0mpath\u001b[0m\u001b[1;33m+\u001b[0m\u001b[1;34m'\\\\pdf folder\\\\新一代审批意见'\u001b[0m\u001b[1;33m)\u001b[0m\u001b[1;33m\u001b[0m\u001b[1;33m\u001b[0m\u001b[0m\n\u001b[0m\u001b[0;32m      6\u001b[0m \u001b[1;32mfor\u001b[0m \u001b[0mfile\u001b[0m \u001b[1;32min\u001b[0m \u001b[0mfile_list\u001b[0m\u001b[1;33m:\u001b[0m \u001b[1;31m#遍历所有pdf文件\u001b[0m\u001b[1;33m\u001b[0m\u001b[1;33m\u001b[0m\u001b[0m\n\u001b[0;32m      7\u001b[0m     \u001b[0mapproval_no\u001b[0m\u001b[1;33m.\u001b[0m\u001b[0mappend\u001b[0m\u001b[1;33m(\u001b[0m\u001b[0mfile\u001b[0m\u001b[1;33m)\u001b[0m \u001b[1;31m# 添加该文件的文件名\u001b[0m\u001b[1;33m\u001b[0m\u001b[1;33m\u001b[0m\u001b[0m\n",
      "\u001b[1;31mFileNotFoundError\u001b[0m: [WinError 3] 系统找不到指定的路径。: 'C:\\\\Users\\\\DELL\\\\Desktop\\\\PDF extraction\\\\pdf folder\\\\新一代审批意见'"
     ]
    }
   ],
   "source": [
    "approval_no=[]  #建立全量文件名列表\n",
    "approval_namelist=[] #建立全量审批人列表\n",
    "approval_datelist=[] #建立全量审批日期列表\n",
    "path=os.getcwd()\n",
    "file_list=os.listdir(path+'\\\\pdf folder\\\\新一代审批意见')\n",
    "for file in file_list: #遍历所有pdf文件\n",
    "    approval_no.append(file) # 添加该文件的文件名\n",
    "    pdf_file=pdfplumber.open(r'C:\\Users\\DELL\\Desktop\\PDF extration\\pdf folder\\新一代审批意见\\{}'.format(file))\n",
    "    individual_approval_name=[] # 建立该文件的审批人列表\n",
    "    individual_approval_date=[] # 建立该文件的每位审批人审批时间\n",
    "    for i in range(len(pdf_file.pages)): \n",
    "        name_list=pdf_file.pages[i].extract_table()[-1] #遍历每一页最后一栏位\n",
    "        if '签字' in name_list: #判断每一页最后一栏位是否包含 签字\n",
    "            individual_approval_name.append(name_list[1]) # 将审批人名称逐一加入该文件审批人列表\n",
    "            individual_approval_date.append(name_list[-1]) # 将审批时间逐一加入该文件审批时间列表\n",
    "    approval_namelist.append(individual_approval_name) # 将该文件审批人列表加如全量列表\n",
    "    approval_datelist.append(individual_approval_date) # 将该文件审批时间列表加如全量列表\n",
    "print(approval_no,'\\n',approval_namelist,'\\n',approval_datelist)\n",
    "\n",
    "df=pd.DataFrame(approval_namelist,\n",
    "                columns=['牵头审批人','审批人1','审批人2','审批人3','审批人4'],\n",
    "                index=approval_no)\n",
    "df2=pd.DataFrame(approval_datelist,\n",
    "                columns=['牵头审批人批复时间','审批人1批复时间','审批人2批复时间','审批人3批复时间','审批人4批复时间'],\n",
    "                index=approval_no)\n",
    "\n",
    "newgeneration_human_time_data=pd.merge(df,df2,left_index=True,right_index=True)\n",
    "newgeneration_human_time_data.reset_index(inplace=True)\n",
    "writer=pd.ExcelWriter('newgeneration_human_time_data.xlsx')\n",
    "newgeneration_human_time_data.to_excel(writer,'newgeneration_human_time_data')\n",
    "writer.save()"
   ]
  },
  {
   "cell_type": "code",
   "execution_count": 4,
   "metadata": {},
   "outputs": [
    {
     "ename": "FileNotFoundError",
     "evalue": "[WinError 3] 系统找不到指定的路径。: 'C:\\\\Users\\\\DELL\\\\Desktop\\\\PDF extraction\\\\pdf folder\\\\新一代审批批复'",
     "output_type": "error",
     "traceback": [
      "\u001b[1;31m---------------------------------------------------------------------------\u001b[0m",
      "\u001b[1;31mFileNotFoundError\u001b[0m                         Traceback (most recent call last)",
      "\u001b[1;32m<ipython-input-4-17d1d7864fd8>\u001b[0m in \u001b[0;36m<module>\u001b[1;34m\u001b[0m\n\u001b[0;32m      1\u001b[0m \u001b[0mapproval_no_2\u001b[0m\u001b[1;33m=\u001b[0m\u001b[1;33m[\u001b[0m\u001b[1;33m]\u001b[0m\u001b[1;33m\u001b[0m\u001b[1;33m\u001b[0m\u001b[0m\n\u001b[0;32m      2\u001b[0m \u001b[0mapproval_comment_2\u001b[0m\u001b[1;33m=\u001b[0m\u001b[1;33m[\u001b[0m\u001b[1;33m]\u001b[0m\u001b[1;33m\u001b[0m\u001b[1;33m\u001b[0m\u001b[0m\n\u001b[1;32m----> 3\u001b[1;33m \u001b[0mfile_list2\u001b[0m\u001b[1;33m=\u001b[0m\u001b[0mos\u001b[0m\u001b[1;33m.\u001b[0m\u001b[0mlistdir\u001b[0m\u001b[1;33m(\u001b[0m\u001b[0mpath\u001b[0m\u001b[1;33m+\u001b[0m\u001b[1;34m'\\\\pdf folder\\\\新一代审批批复'\u001b[0m\u001b[1;33m)\u001b[0m\u001b[1;33m\u001b[0m\u001b[1;33m\u001b[0m\u001b[0m\n\u001b[0m\u001b[0;32m      4\u001b[0m \u001b[1;32mfor\u001b[0m \u001b[0mfile\u001b[0m \u001b[1;32min\u001b[0m \u001b[0mfile_list2\u001b[0m\u001b[1;33m:\u001b[0m\u001b[1;33m\u001b[0m\u001b[1;33m\u001b[0m\u001b[0m\n\u001b[0;32m      5\u001b[0m     \u001b[0mpdf_file\u001b[0m\u001b[1;33m=\u001b[0m\u001b[0mpdfplumber\u001b[0m\u001b[1;33m.\u001b[0m\u001b[0mopen\u001b[0m\u001b[1;33m(\u001b[0m\u001b[1;34mr'C:\\Users\\DELL\\Desktop\\PDF extration\\pdf folder\\新一代审批批复\\{}'\u001b[0m\u001b[1;33m.\u001b[0m\u001b[0mformat\u001b[0m\u001b[1;33m(\u001b[0m\u001b[0mfile\u001b[0m\u001b[1;33m)\u001b[0m\u001b[1;33m)\u001b[0m\u001b[1;33m\u001b[0m\u001b[1;33m\u001b[0m\u001b[0m\n",
      "\u001b[1;31mFileNotFoundError\u001b[0m: [WinError 3] 系统找不到指定的路径。: 'C:\\\\Users\\\\DELL\\\\Desktop\\\\PDF extraction\\\\pdf folder\\\\新一代审批批复'"
     ]
    }
   ],
   "source": [
    "approval_no_2=[]\n",
    "approval_comment_2=[]\n",
    "file_list2=os.listdir(path+'\\\\pdf folder\\\\新一代审批批复')\n",
    "for file in file_list2:\n",
    "    pdf_file=pdfplumber.open(r'C:\\Users\\DELL\\Desktop\\PDF extration\\pdf folder\\新一代审批批复\\{}'.format(file))\n",
    "    for i in range(len(pdf_file.pages)):\n",
    "        name_list=pdf_file.pages[i].extract_table()\n",
    "        for j in range(len(name_list)):\n",
    "            if '意见详情' in name_list[j]:\n",
    "                approval_no_2.append(file)\n",
    "                approval_comment_2.append(name_list[j+1][0])\n",
    "print(approval_no_2)\n",
    "print(approval_comment_2)\n",
    "\n",
    "newgeneration_comment_data=pd.DataFrame(approval_comment_2,index=approval_no_2,columns=['审批批复'])\n",
    "newgeneration_comment_data.reset_index(inplace=True)\n",
    "writer=pd.ExcelWriter('newgeneration_comment_data.xlsx')\n",
    "newgeneration_comment_data.to_excel(writer,'newgeneration_comment_data')\n",
    "writer.save()"
   ]
  },
  {
   "cell_type": "code",
   "execution_count": 5,
   "metadata": {
    "scrolled": true
   },
   "outputs": [
    {
     "ename": "FileNotFoundError",
     "evalue": "[WinError 3] 系统找不到指定的路径。: 'C:\\\\Users\\\\DELL\\\\Desktop\\\\PDF extraction\\\\pdf folder\\\\新一代合规意见'",
     "output_type": "error",
     "traceback": [
      "\u001b[1;31m---------------------------------------------------------------------------\u001b[0m",
      "\u001b[1;31mFileNotFoundError\u001b[0m                         Traceback (most recent call last)",
      "\u001b[1;32m<ipython-input-5-faa58ff0393f>\u001b[0m in \u001b[0;36m<module>\u001b[1;34m\u001b[0m\n\u001b[0;32m      1\u001b[0m \u001b[0mapproval_no_3\u001b[0m\u001b[1;33m=\u001b[0m\u001b[1;33m[\u001b[0m\u001b[1;33m]\u001b[0m\u001b[1;33m\u001b[0m\u001b[1;33m\u001b[0m\u001b[0m\n\u001b[0;32m      2\u001b[0m \u001b[0mapproval_opinion_3\u001b[0m\u001b[1;33m=\u001b[0m\u001b[1;33m[\u001b[0m\u001b[1;33m]\u001b[0m\u001b[1;33m\u001b[0m\u001b[1;33m\u001b[0m\u001b[0m\n\u001b[1;32m----> 3\u001b[1;33m \u001b[0mfile_list3\u001b[0m\u001b[1;33m=\u001b[0m\u001b[0mos\u001b[0m\u001b[1;33m.\u001b[0m\u001b[0mlistdir\u001b[0m\u001b[1;33m(\u001b[0m\u001b[0mpath\u001b[0m\u001b[1;33m+\u001b[0m\u001b[1;34m'\\\\pdf folder\\\\新一代合规意见'\u001b[0m\u001b[1;33m)\u001b[0m\u001b[1;33m\u001b[0m\u001b[1;33m\u001b[0m\u001b[0m\n\u001b[0m\u001b[0;32m      4\u001b[0m \u001b[1;32mfor\u001b[0m \u001b[0mfile\u001b[0m \u001b[1;32min\u001b[0m \u001b[0mfile_list3\u001b[0m\u001b[1;33m:\u001b[0m\u001b[1;33m\u001b[0m\u001b[1;33m\u001b[0m\u001b[0m\n\u001b[0;32m      5\u001b[0m     \u001b[0mpdf_file\u001b[0m\u001b[1;33m=\u001b[0m\u001b[0mpdfplumber\u001b[0m\u001b[1;33m.\u001b[0m\u001b[0mopen\u001b[0m\u001b[1;33m(\u001b[0m\u001b[1;34mr'C:\\Users\\DELL\\Desktop\\PDF extration\\pdf folder\\新一代合规意见\\{}'\u001b[0m\u001b[1;33m.\u001b[0m\u001b[0mformat\u001b[0m\u001b[1;33m(\u001b[0m\u001b[0mfile\u001b[0m\u001b[1;33m)\u001b[0m\u001b[1;33m)\u001b[0m\u001b[1;33m\u001b[0m\u001b[1;33m\u001b[0m\u001b[0m\n",
      "\u001b[1;31mFileNotFoundError\u001b[0m: [WinError 3] 系统找不到指定的路径。: 'C:\\\\Users\\\\DELL\\\\Desktop\\\\PDF extraction\\\\pdf folder\\\\新一代合规意见'"
     ]
    }
   ],
   "source": [
    "approval_no_3=[]\n",
    "approval_opinion_3=[]\n",
    "file_list3=os.listdir(path+'\\\\pdf folder\\\\新一代合规意见')\n",
    "for file in file_list3:\n",
    "    pdf_file=pdfplumber.open(r'C:\\Users\\DELL\\Desktop\\PDF extration\\pdf folder\\新一代合规意见\\{}'.format(file))\n",
    "    individual_aduit_name=[]\n",
    "    for i in range(len(pdf_file.pages)):\n",
    "        name_list=pdf_file.pages[i].extract_table()\n",
    "        if name_list is not None: # 判断是否为Nonetype\n",
    "            for item in name_list:\n",
    "                for i in item:\n",
    "                    if '签字' in str(i):\n",
    "                        individual_aduit_name.append(i)\n",
    "    approval_no_3.append(file) # 将该文件名加入全量列表\n",
    "    approval_opinion_3.append(individual_aduit_name) # 将该合规人员列表加入全量列表\n",
    "print(approval_no_3)\n",
    "print(approval_opinion_3)\n",
    "\n",
    "newgeneration_opinion_data=pd.DataFrame(approval_opinion_3,index=approval_no_3,columns=['合规性初审人','合规性复核人'])\n",
    "newgeneration_opinion_data.reset_index(inplace=True)\n",
    "writer=pd.ExcelWriter('newgeneration_opinion_data.xlsx')\n",
    "newgeneration_opinion_data.to_excel(writer,'newgeneration_opinion_data')\n",
    "writer.save()"
   ]
  }
 ],
 "metadata": {
  "kernelspec": {
   "display_name": "Python 3",
   "language": "python",
   "name": "python3"
  },
  "language_info": {
   "codemirror_mode": {
    "name": "ipython",
    "version": 3
   },
   "file_extension": ".py",
   "mimetype": "text/x-python",
   "name": "python",
   "nbconvert_exporter": "python",
   "pygments_lexer": "ipython3",
   "version": "3.7.6"
  }
 },
 "nbformat": 4,
 "nbformat_minor": 4
}
